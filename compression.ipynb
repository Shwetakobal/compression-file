{
 "cells": [
  {
   "cell_type": "code",
   "execution_count": 4,
   "id": "6f34ade6-4495-4bad-bd5b-f4b0607e5ce3",
   "metadata": {},
   "outputs": [],
   "source": [
    "l=[1,2,3,4,5]\n",
    "l1=[]\n",
    "for i in l :\n",
    "    l1.append(i**2)"
   ]
  },
  {
   "cell_type": "code",
   "execution_count": 5,
   "id": "9a76a41e-de02-4f94-9811-1c477d59394b",
   "metadata": {},
   "outputs": [
    {
     "data": {
      "text/plain": [
       "[1, 4, 9, 16, 25]"
      ]
     },
     "execution_count": 5,
     "metadata": {},
     "output_type": "execute_result"
    }
   ],
   "source": [
    "l1"
   ]
  },
  {
   "cell_type": "code",
   "execution_count": 6,
   "id": "f570cd6c-05c5-442a-a54e-f7d4ef701668",
   "metadata": {},
   "outputs": [
    {
     "data": {
      "text/plain": [
       "[1, 2, 3, 4, 5]"
      ]
     },
     "execution_count": 6,
     "metadata": {},
     "output_type": "execute_result"
    }
   ],
   "source": [
    "l"
   ]
  },
  {
   "cell_type": "code",
   "execution_count": 7,
   "id": "89d3708d-9481-434e-adb7-18b069b88455",
   "metadata": {},
   "outputs": [
    {
     "data": {
      "text/plain": [
       "[1, 4, 9, 16, 25]"
      ]
     },
     "execution_count": 7,
     "metadata": {},
     "output_type": "execute_result"
    }
   ],
   "source": [
    "list(i**2 for i in l)"
   ]
  },
  {
   "cell_type": "code",
   "execution_count": 8,
   "id": "e898c1bb-d739-4cbc-9388-ab516346e852",
   "metadata": {},
   "outputs": [
    {
     "data": {
      "text/plain": [
       "[1, 4, 9, 16, 25]"
      ]
     },
     "execution_count": 8,
     "metadata": {},
     "output_type": "execute_result"
    }
   ],
   "source": [
    "[i**2 for i in l ]"
   ]
  },
  {
   "cell_type": "code",
   "execution_count": 9,
   "id": "e8a38b0e-f3c2-4026-a3ac-aa3971aef50e",
   "metadata": {},
   "outputs": [],
   "source": [
    "l = [\"shweta\" \"rohit\" \"poonam\"]"
   ]
  },
  {
   "cell_type": "code",
   "execution_count": 10,
   "id": "09ee380a-a671-467a-a563-8421bbc80159",
   "metadata": {},
   "outputs": [
    {
     "data": {
      "text/plain": [
       "['shwetarohitpoonam']"
      ]
     },
     "execution_count": 10,
     "metadata": {},
     "output_type": "execute_result"
    }
   ],
   "source": [
    "l"
   ]
  },
  {
   "cell_type": "code",
   "execution_count": 14,
   "id": "0cf00afd-5207-4d57-9918-db64151c1cc2",
   "metadata": {},
   "outputs": [
    {
     "data": {
      "text/plain": [
       "['SHWETAROHITPOONAM']"
      ]
     },
     "execution_count": 14,
     "metadata": {},
     "output_type": "execute_result"
    }
   ],
   "source": [
    "[i.upper() for i in l]"
   ]
  },
  {
   "cell_type": "code",
   "execution_count": 19,
   "id": "d6e28d0c-1b3c-4ea3-9f6a-40f05177620e",
   "metadata": {},
   "outputs": [],
   "source": [
    "d= {\"key1\":1, \"key2\" :2, \"key\" : 3}"
   ]
  },
  {
   "cell_type": "code",
   "execution_count": 20,
   "id": "05c9ece0-83ab-4939-bb7f-7295d678f915",
   "metadata": {},
   "outputs": [
    {
     "data": {
      "text/plain": [
       "{'key1': 1, 'key2': 2, 'key': 3}"
      ]
     },
     "execution_count": 20,
     "metadata": {},
     "output_type": "execute_result"
    }
   ],
   "source": [
    "d"
   ]
  },
  {
   "cell_type": "code",
   "execution_count": 21,
   "id": "7b252d0c-3fcd-4d2e-ae31-4ccd71cd1002",
   "metadata": {},
   "outputs": [
    {
     "data": {
      "text/plain": [
       "dict_items([('key1', 1), ('key2', 2), ('key', 3)])"
      ]
     },
     "execution_count": 21,
     "metadata": {},
     "output_type": "execute_result"
    }
   ],
   "source": [
    "d.items()"
   ]
  },
  {
   "cell_type": "code",
   "execution_count": 22,
   "id": "b6163b7f-af7e-49d2-8bfd-d942dfc5df11",
   "metadata": {},
   "outputs": [
    {
     "data": {
      "text/plain": [
       "{'key2': 2, 'key': 3}"
      ]
     },
     "execution_count": 22,
     "metadata": {},
     "output_type": "execute_result"
    }
   ],
   "source": [
    "{k:v for k,v in d.items() if v > 1 }"
   ]
  },
  {
   "cell_type": "code",
   "execution_count": null,
   "id": "2d24cd93-3979-4d1d-992f-fd2f25a88dd5",
   "metadata": {},
   "outputs": [],
   "source": []
  }
 ],
 "metadata": {
  "kernelspec": {
   "display_name": "Python 3 (ipykernel)",
   "language": "python",
   "name": "python3"
  },
  "language_info": {
   "codemirror_mode": {
    "name": "ipython",
    "version": 3
   },
   "file_extension": ".py",
   "mimetype": "text/x-python",
   "name": "python",
   "nbconvert_exporter": "python",
   "pygments_lexer": "ipython3",
   "version": "3.10.8"
  }
 },
 "nbformat": 4,
 "nbformat_minor": 5
}
